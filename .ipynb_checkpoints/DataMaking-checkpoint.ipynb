{
 "cells": [
  {
   "cell_type": "markdown",
   "id": "717f1b7b-dc67-41b5-a322-68e4dde6be82",
   "metadata": {},
   "source": [
    "# Data Making"
   ]
  },
  {
   "cell_type": "code",
   "execution_count": 2,
   "id": "80bfb77b-5e4d-41cf-9352-50d3e090e374",
   "metadata": {},
   "outputs": [
    {
     "data": {
      "text/html": [
       "<div>\n",
       "<style scoped>\n",
       "    .dataframe tbody tr th:only-of-type {\n",
       "        vertical-align: middle;\n",
       "    }\n",
       "\n",
       "    .dataframe tbody tr th {\n",
       "        vertical-align: top;\n",
       "    }\n",
       "\n",
       "    .dataframe thead th {\n",
       "        text-align: right;\n",
       "    }\n",
       "</style>\n",
       "<table border=\"1\" class=\"dataframe\">\n",
       "  <thead>\n",
       "    <tr style=\"text-align: right;\">\n",
       "      <th></th>\n",
       "      <th>Name</th>\n",
       "      <th>Age</th>\n",
       "      <th>Roles</th>\n",
       "    </tr>\n",
       "  </thead>\n",
       "  <tbody>\n",
       "    <tr>\n",
       "      <th>0</th>\n",
       "      <td>Jason Momoa</td>\n",
       "      <td>44</td>\n",
       "      <td>Drogo</td>\n",
       "    </tr>\n",
       "    <tr>\n",
       "      <th>1</th>\n",
       "      <td>Emilia Clark</td>\n",
       "      <td>37</td>\n",
       "      <td>Daenerys</td>\n",
       "    </tr>\n",
       "    <tr>\n",
       "      <th>2</th>\n",
       "      <td>Kit Harrington</td>\n",
       "      <td>37</td>\n",
       "      <td>Jon Snow</td>\n",
       "    </tr>\n",
       "    <tr>\n",
       "      <th>3</th>\n",
       "      <td>Sophie Turner</td>\n",
       "      <td>28</td>\n",
       "      <td>Sansa Stark</td>\n",
       "    </tr>\n",
       "  </tbody>\n",
       "</table>\n",
       "</div>"
      ],
      "text/plain": [
       "             Name Age        Roles\n",
       "0     Jason Momoa  44        Drogo\n",
       "1    Emilia Clark  37     Daenerys\n",
       "2  Kit Harrington  37     Jon Snow\n",
       "3   Sophie Turner  28  Sansa Stark"
      ]
     },
     "execution_count": 2,
     "metadata": {},
     "output_type": "execute_result"
    }
   ],
   "source": [
    "#making tabular data using dictionary:\n",
    "my_dictionary={\"Name\":['Jason Momoa', 'Emilia Clark', 'Kit Harrington', 'Sophie Turner'],\n",
    "               \"Age\":['44', '37', '37', '28'],\n",
    "               \"Roles\":['Drogo', 'Daenerys', 'Jon Snow', 'Sansa Stark']}\n",
    "\n",
    "import pandas as pd\n",
    "\n",
    "my_data=pd.DataFrame(my_dictionary)\n",
    "my_data"
   ]
  }
 ],
 "metadata": {
  "kernelspec": {
   "display_name": "Python 3 (ipykernel)",
   "language": "python",
   "name": "python3"
  },
  "language_info": {
   "codemirror_mode": {
    "name": "ipython",
    "version": 3
   },
   "file_extension": ".py",
   "mimetype": "text/x-python",
   "name": "python",
   "nbconvert_exporter": "python",
   "pygments_lexer": "ipython3",
   "version": "3.12.4"
  }
 },
 "nbformat": 4,
 "nbformat_minor": 5
}
